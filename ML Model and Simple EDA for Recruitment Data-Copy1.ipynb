{
 "cells": [
  {
   "cell_type": "markdown",
   "id": "e8583204",
   "metadata": {},
   "source": [
    "# Import Library"
   ]
  },
  {
   "cell_type": "code",
   "execution_count": 47,
   "id": "64542402",
   "metadata": {},
   "outputs": [],
   "source": [
    "import pandas as pd\n",
    "import numpy as np\n",
    "import matplotlib as mpl\n",
    "import matplotlib.pyplot as plt\n",
    "import seaborn as sns\n",
    "import sklearn\n",
    "%matplotlib inline"
   ]
  },
  {
   "cell_type": "markdown",
   "id": "59abead5",
   "metadata": {},
   "source": [
    "# Import Data Set and Early Exploration"
   ]
  },
  {
   "cell_type": "code",
   "execution_count": 48,
   "id": "9513c062",
   "metadata": {},
   "outputs": [],
   "source": [
    "df = pd.read_csv('recruitment_data.csv') # Load Data Set"
   ]
  },
  {
   "cell_type": "code",
   "execution_count": 49,
   "id": "26f79a19",
   "metadata": {},
   "outputs": [
    {
     "data": {
      "text/html": [
       "<div>\n",
       "<style scoped>\n",
       "    .dataframe tbody tr th:only-of-type {\n",
       "        vertical-align: middle;\n",
       "    }\n",
       "\n",
       "    .dataframe tbody tr th {\n",
       "        vertical-align: top;\n",
       "    }\n",
       "\n",
       "    .dataframe thead th {\n",
       "        text-align: right;\n",
       "    }\n",
       "</style>\n",
       "<table border=\"1\" class=\"dataframe\">\n",
       "  <thead>\n",
       "    <tr style=\"text-align: right;\">\n",
       "      <th></th>\n",
       "      <th>Serial_no</th>\n",
       "      <th>Gender</th>\n",
       "      <th>Python_exp</th>\n",
       "      <th>Experience_Years</th>\n",
       "      <th>Education</th>\n",
       "      <th>Internship</th>\n",
       "      <th>Score</th>\n",
       "      <th>Salary * 10E4</th>\n",
       "      <th>Offer_History</th>\n",
       "      <th>Location</th>\n",
       "      <th>Recruitment_Status</th>\n",
       "    </tr>\n",
       "  </thead>\n",
       "  <tbody>\n",
       "    <tr>\n",
       "      <th>0</th>\n",
       "      <td>1</td>\n",
       "      <td>Male</td>\n",
       "      <td>Yes</td>\n",
       "      <td>0.0</td>\n",
       "      <td>Graduate</td>\n",
       "      <td>No</td>\n",
       "      <td>5139</td>\n",
       "      <td>0.0</td>\n",
       "      <td>1.0</td>\n",
       "      <td>Urban</td>\n",
       "      <td>Y</td>\n",
       "    </tr>\n",
       "    <tr>\n",
       "      <th>1</th>\n",
       "      <td>2</td>\n",
       "      <td>Male</td>\n",
       "      <td>No</td>\n",
       "      <td>1.0</td>\n",
       "      <td>Graduate</td>\n",
       "      <td>No</td>\n",
       "      <td>4583</td>\n",
       "      <td>128.0</td>\n",
       "      <td>1.0</td>\n",
       "      <td>Rural</td>\n",
       "      <td>N</td>\n",
       "    </tr>\n",
       "    <tr>\n",
       "      <th>2</th>\n",
       "      <td>3</td>\n",
       "      <td>Male</td>\n",
       "      <td>No</td>\n",
       "      <td>0.0</td>\n",
       "      <td>Graduate</td>\n",
       "      <td>Yes</td>\n",
       "      <td>3000</td>\n",
       "      <td>66.0</td>\n",
       "      <td>1.0</td>\n",
       "      <td>Urban</td>\n",
       "      <td>Y</td>\n",
       "    </tr>\n",
       "    <tr>\n",
       "      <th>3</th>\n",
       "      <td>4</td>\n",
       "      <td>Male</td>\n",
       "      <td>No</td>\n",
       "      <td>0.0</td>\n",
       "      <td>Not Graduate</td>\n",
       "      <td>No</td>\n",
       "      <td>2583</td>\n",
       "      <td>120.0</td>\n",
       "      <td>1.0</td>\n",
       "      <td>Urban</td>\n",
       "      <td>Y</td>\n",
       "    </tr>\n",
       "    <tr>\n",
       "      <th>4</th>\n",
       "      <td>5</td>\n",
       "      <td>Male</td>\n",
       "      <td>Yes</td>\n",
       "      <td>0.0</td>\n",
       "      <td>Graduate</td>\n",
       "      <td>No</td>\n",
       "      <td>6000</td>\n",
       "      <td>141.0</td>\n",
       "      <td>1.0</td>\n",
       "      <td>Urban</td>\n",
       "      <td>Y</td>\n",
       "    </tr>\n",
       "  </tbody>\n",
       "</table>\n",
       "</div>"
      ],
      "text/plain": [
       "   Serial_no Gender Python_exp  Experience_Years     Education Internship  \\\n",
       "0          1   Male        Yes               0.0      Graduate         No   \n",
       "1          2   Male         No               1.0      Graduate         No   \n",
       "2          3   Male         No               0.0      Graduate        Yes   \n",
       "3          4   Male         No               0.0  Not Graduate         No   \n",
       "4          5   Male        Yes               0.0      Graduate         No   \n",
       "\n",
       "   Score  Salary * 10E4  Offer_History Location Recruitment_Status  \n",
       "0   5139            0.0            1.0    Urban                  Y  \n",
       "1   4583          128.0            1.0    Rural                  N  \n",
       "2   3000           66.0            1.0    Urban                  Y  \n",
       "3   2583          120.0            1.0    Urban                  Y  \n",
       "4   6000          141.0            1.0    Urban                  Y  "
      ]
     },
     "execution_count": 49,
     "metadata": {},
     "output_type": "execute_result"
    }
   ],
   "source": [
    "df.head() #See Data 5 row of the data ser"
   ]
  },
  {
   "cell_type": "code",
   "execution_count": 50,
   "id": "52004faa",
   "metadata": {},
   "outputs": [
    {
     "name": "stdout",
     "output_type": "stream",
     "text": [
      "<class 'pandas.core.frame.DataFrame'>\n",
      "RangeIndex: 614 entries, 0 to 613\n",
      "Data columns (total 11 columns):\n",
      " #   Column              Non-Null Count  Dtype  \n",
      "---  ------              --------------  -----  \n",
      " 0   Serial_no           614 non-null    int64  \n",
      " 1   Gender              601 non-null    object \n",
      " 2   Python_exp          611 non-null    object \n",
      " 3   Experience_Years    599 non-null    float64\n",
      " 4   Education           614 non-null    object \n",
      " 5   Internship          582 non-null    object \n",
      " 6   Score               614 non-null    int64  \n",
      " 7   Salary * 10E4       593 non-null    float64\n",
      " 8   Offer_History       564 non-null    float64\n",
      " 9   Location            614 non-null    object \n",
      " 10  Recruitment_Status  614 non-null    object \n",
      "dtypes: float64(3), int64(2), object(6)\n",
      "memory usage: 52.9+ KB\n"
     ]
    }
   ],
   "source": [
    "df.info() #Data Set Info"
   ]
  },
  {
   "cell_type": "code",
   "execution_count": 51,
   "id": "efb0bd20",
   "metadata": {},
   "outputs": [
    {
     "name": "stdout",
     "output_type": "stream",
     "text": [
      "['Serial_no', 'Experience_Years', 'Score', 'Salary * 10E4', 'Offer_History']\n",
      "['Gender', 'Python_exp', 'Education', 'Internship', 'Location', 'Recruitment_Status']\n"
     ]
    }
   ],
   "source": [
    "#Differentiate Categorical and Numerical Feature \n",
    "numerical = df.select_dtypes(\"number\").columns.tolist() #Take numerical column name as a list\n",
    "categorical = df.select_dtypes('object').columns.tolist() #Take categorical column name as a list\n",
    "print(numerical)\n",
    "print(categorical)"
   ]
  },
  {
   "cell_type": "markdown",
   "id": "931487d3",
   "metadata": {},
   "source": [
    "# Check for Missing Value and Duplicated Row"
   ]
  },
  {
   "cell_type": "code",
   "execution_count": 52,
   "id": "1c4931f4",
   "metadata": {},
   "outputs": [
    {
     "data": {
      "text/plain": [
       "Text(0.5, 1.0, 'Missing Value')"
      ]
     },
     "execution_count": 52,
     "metadata": {},
     "output_type": "execute_result"
    },
    {
     "data": {
      "image/png": "[encoded data removed]",
      "text/plain": [
       "<Figure size 432x288 with 1 Axes>"
      ]
     },
     "metadata": {
      "needs_background": "light"
     },
     "output_type": "display_data"
    }
   ],
   "source": [
    "#check for Missing value for each column \n",
    "((df.isnull().sum()/len(df))*100).plot(kind='barh')\n",
    "plt.xlabel('Percentage of Missing Value (%)')\n",
    "plt.ylabel('Column Name')\n",
    "plt.title('Missing Value')"
   ]
  },
  {
   "cell_type": "code",
   "execution_count": 53,
   "id": "df809e4d",
   "metadata": {},
   "outputs": [
    {
     "data": {
      "text/plain": [
       "0"
      ]
     },
     "execution_count": 53,
     "metadata": {},
     "output_type": "execute_result"
    }
   ],
   "source": [
    "#Check for duplicated rows \n",
    "df.duplicated().sum()"
   ]
  },
  {
   "cell_type": "markdown",
   "id": "ee2280aa",
   "metadata": {},
   "source": [
    "**Action:** Because the amount of data that is missing is quite few (Max. Null 8%), then we should drop the missing data"
   ]
  },
  {
   "cell_type": "code",
   "execution_count": 54,
   "id": "7c3c9cc2",
   "metadata": {},
   "outputs": [],
   "source": [
    "#Drop missing data \n",
    "df.dropna(axis=0, inplace=True)"
   ]
  },
  {
   "cell_type": "code",
   "execution_count": 55,
   "id": "46cbc2e3",
   "metadata": {},
   "outputs": [
    {
     "data": {
      "text/plain": [
       "Serial_no             0\n",
       "Gender                0\n",
       "Python_exp            0\n",
       "Experience_Years      0\n",
       "Education             0\n",
       "Internship            0\n",
       "Score                 0\n",
       "Salary * 10E4         0\n",
       "Offer_History         0\n",
       "Location              0\n",
       "Recruitment_Status    0\n",
       "dtype: int64"
      ]
     },
     "execution_count": 55,
     "metadata": {},
     "output_type": "execute_result"
    }
   ],
   "source": [
    "#Recheck for Missing value \n",
    "df.isnull().sum()"
   ]
  },
  {
   "cell_type": "code",
   "execution_count": 56,
   "id": "d942fa60",
   "metadata": {},
   "outputs": [
    {
     "data": {
      "text/plain": [
       "(493, 11)"
      ]
     },
     "execution_count": 56,
     "metadata": {},
     "output_type": "execute_result"
    }
   ],
   "source": [
    "#Data shape after removing missing values \n",
    "df.shape"
   ]
  },
  {
   "cell_type": "code",
   "execution_count": 57,
   "id": "db06f6f6",
   "metadata": {},
   "outputs": [
    {
     "data": {
      "text/plain": [
       "493"
      ]
     },
     "execution_count": 57,
     "metadata": {},
     "output_type": "execute_result"
    }
   ],
   "source": [
    "#Check for Serial_no unique value \n",
    "df['Serial_no'].nunique()"
   ]
  },
  {
   "cell_type": "code",
   "execution_count": 58,
   "id": "3b92b024",
   "metadata": {},
   "outputs": [],
   "source": [
    "#Since Serial_no column is unique in every row, we could drop the column because it has no meaning \n",
    "df.drop('Serial_no', axis=1, inplace=True)"
   ]
  },
  {
   "cell_type": "code",
   "execution_count": 59,
   "id": "b6efcc29",
   "metadata": {},
   "outputs": [
    {
     "data": {
      "text/html": [
       "<div>\n",
       "<style scoped>\n",
       "    .dataframe tbody tr th:only-of-type {\n",
       "        vertical-align: middle;\n",
       "    }\n",
       "\n",
       "    .dataframe tbody tr th {\n",
       "        vertical-align: top;\n",
       "    }\n",
       "\n",
       "    .dataframe thead th {\n",
       "        text-align: right;\n",
       "    }\n",
       "</style>\n",
       "<table border=\"1\" class=\"dataframe\">\n",
       "  <thead>\n",
       "    <tr style=\"text-align: right;\">\n",
       "      <th></th>\n",
       "      <th>Gender</th>\n",
       "      <th>Python_exp</th>\n",
       "      <th>Experience_Years</th>\n",
       "      <th>Education</th>\n",
       "      <th>Internship</th>\n",
       "      <th>Score</th>\n",
       "      <th>Salary * 10E4</th>\n",
       "      <th>Offer_History</th>\n",
       "      <th>Location</th>\n",
       "      <th>Recruitment_Status</th>\n",
       "    </tr>\n",
       "  </thead>\n",
       "  <tbody>\n",
       "    <tr>\n",
       "      <th>0</th>\n",
       "      <td>Male</td>\n",
       "      <td>Yes</td>\n",
       "      <td>0.0</td>\n",
       "      <td>Graduate</td>\n",
       "      <td>No</td>\n",
       "      <td>5139</td>\n",
       "      <td>0.0</td>\n",
       "      <td>1.0</td>\n",
       "      <td>Urban</td>\n",
       "      <td>Y</td>\n",
       "    </tr>\n",
       "    <tr>\n",
       "      <th>1</th>\n",
       "      <td>Male</td>\n",
       "      <td>No</td>\n",
       "      <td>1.0</td>\n",
       "      <td>Graduate</td>\n",
       "      <td>No</td>\n",
       "      <td>4583</td>\n",
       "      <td>128.0</td>\n",
       "      <td>1.0</td>\n",
       "      <td>Rural</td>\n",
       "      <td>N</td>\n",
       "    </tr>\n",
       "    <tr>\n",
       "      <th>2</th>\n",
       "      <td>Male</td>\n",
       "      <td>No</td>\n",
       "      <td>0.0</td>\n",
       "      <td>Graduate</td>\n",
       "      <td>Yes</td>\n",
       "      <td>3000</td>\n",
       "      <td>66.0</td>\n",
       "      <td>1.0</td>\n",
       "      <td>Urban</td>\n",
       "      <td>Y</td>\n",
       "    </tr>\n",
       "    <tr>\n",
       "      <th>3</th>\n",
       "      <td>Male</td>\n",
       "      <td>No</td>\n",
       "      <td>0.0</td>\n",
       "      <td>Not Graduate</td>\n",
       "      <td>No</td>\n",
       "      <td>2583</td>\n",
       "      <td>120.0</td>\n",
       "      <td>1.0</td>\n",
       "      <td>Urban</td>\n",
       "      <td>Y</td>\n",
       "    </tr>\n",
       "    <tr>\n",
       "      <th>4</th>\n",
       "      <td>Male</td>\n",
       "      <td>Yes</td>\n",
       "      <td>0.0</td>\n",
       "      <td>Graduate</td>\n",
       "      <td>No</td>\n",
       "      <td>6000</td>\n",
       "      <td>141.0</td>\n",
       "      <td>1.0</td>\n",
       "      <td>Urban</td>\n",
       "      <td>Y</td>\n",
       "    </tr>\n",
       "  </tbody>\n",
       "</table>\n",
       "</div>"
      ],
      "text/plain": [
       "  Gender Python_exp  Experience_Years     Education Internship  Score  \\\n",
       "0   Male        Yes               0.0      Graduate         No   5139   \n",
       "1   Male         No               1.0      Graduate         No   4583   \n",
       "2   Male         No               0.0      Graduate        Yes   3000   \n",
       "3   Male         No               0.0  Not Graduate         No   2583   \n",
       "4   Male        Yes               0.0      Graduate         No   6000   \n",
       "\n",
       "   Salary * 10E4  Offer_History Location Recruitment_Status  \n",
       "0            0.0            1.0    Urban                  Y  \n",
       "1          128.0            1.0    Rural                  N  \n",
       "2           66.0            1.0    Urban                  Y  \n",
       "3          120.0            1.0    Urban                  Y  \n",
       "4          141.0            1.0    Urban                  Y  "
      ]
     },
     "execution_count": 59,
     "metadata": {},
     "output_type": "execute_result"
    }
   ],
   "source": [
    "#Check for Used Column \n",
    "df.head()"
   ]
  },
  {
   "cell_type": "markdown",
   "id": "a5bd3084",
   "metadata": {},
   "source": [
    "# Simple Exploratory Data Analysis"
   ]
  },
  {
   "cell_type": "markdown",
   "id": "a5595d28",
   "metadata": {},
   "source": [
    "## Univariate Analysis"
   ]
  },
  {
   "cell_type": "markdown",
   "id": "f9dfee7e",
   "metadata": {},
   "source": [
    "### Categorical Column "
   ]
  },
  {
   "cell_type": "code",
   "execution_count": 60,
   "id": "2f47ff2a",
   "metadata": {},
   "outputs": [
    {
     "data": {
      "image/png": "[encoded data removed]",
      "text/plain": [
       "<Figure size 1440x504 with 6 Axes>"
      ]
     },
     "metadata": {
      "needs_background": "light"
     },
     "output_type": "display_data"
    }
   ],
   "source": [
    "#Value Counts of Categorical Column\n",
    "fig = plt.figure(figsize=(20,7))\n",
    "ax_value = []\n",
    "for x in range(len(categorical)): \n",
    "    ax_value.append(f'ax{x}')\n",
    "                    \n",
    "for i in range(len(categorical)):\n",
    "    ax_value[i] = fig.add_subplot(1, len(categorical), i + 1)\n",
    "    df[categorical[i]].value_counts().plot(kind='bar', color='red', ax=ax_value[i])\n",
    "    ax_value[i].set_title(f'count of {categorical[i]}')\n",
    "    ax_value[i].set_xlabel(f'{categorical[i]} Column')\n",
    "    ax_value[i].set_ylabel('Value Counts')\n",
    "    plt.tight_layout()\n",
    "        "
   ]
  },
  {
   "cell_type": "markdown",
   "id": "a9c1234f",
   "metadata": {},
   "source": [
    "**Conclusion :** Most of the candidate didn't have any prior experience for python as well as internship. The job was dominated by male and most of the candidate has a Degree (Graduate). \n",
    "\n",
    "Based on the target (Recruitment_Status), we can identify that the data set is imbalanced data set. Thus, Imbalanced Data Handling is necessary to be done before training the data set."
   ]
  },
  {
   "cell_type": "code",
   "execution_count": 61,
   "id": "c21b7c1e",
   "metadata": {},
   "outputs": [
    {
     "data": {
      "text/html": [
       "<div>\n",
       "<style scoped>\n",
       "    .dataframe tbody tr th:only-of-type {\n",
       "        vertical-align: middle;\n",
       "    }\n",
       "\n",
       "    .dataframe tbody tr th {\n",
       "        vertical-align: top;\n",
       "    }\n",
       "\n",
       "    .dataframe thead th {\n",
       "        text-align: right;\n",
       "    }\n",
       "</style>\n",
       "<table border=\"1\" class=\"dataframe\">\n",
       "  <thead>\n",
       "    <tr style=\"text-align: right;\">\n",
       "      <th></th>\n",
       "      <th>Gender</th>\n",
       "      <th>Python_exp</th>\n",
       "      <th>Education</th>\n",
       "      <th>Internship</th>\n",
       "      <th>Location</th>\n",
       "      <th>Recruitment_Status</th>\n",
       "    </tr>\n",
       "  </thead>\n",
       "  <tbody>\n",
       "    <tr>\n",
       "      <th>count</th>\n",
       "      <td>493</td>\n",
       "      <td>493</td>\n",
       "      <td>493</td>\n",
       "      <td>493</td>\n",
       "      <td>493</td>\n",
       "      <td>493</td>\n",
       "    </tr>\n",
       "    <tr>\n",
       "      <th>unique</th>\n",
       "      <td>2</td>\n",
       "      <td>2</td>\n",
       "      <td>2</td>\n",
       "      <td>2</td>\n",
       "      <td>3</td>\n",
       "      <td>2</td>\n",
       "    </tr>\n",
       "    <tr>\n",
       "      <th>top</th>\n",
       "      <td>Male</td>\n",
       "      <td>No</td>\n",
       "      <td>Graduate</td>\n",
       "      <td>No</td>\n",
       "      <td>Semiurban</td>\n",
       "      <td>Y</td>\n",
       "    </tr>\n",
       "    <tr>\n",
       "      <th>freq</th>\n",
       "      <td>404</td>\n",
       "      <td>318</td>\n",
       "      <td>390</td>\n",
       "      <td>426</td>\n",
       "      <td>193</td>\n",
       "      <td>339</td>\n",
       "    </tr>\n",
       "  </tbody>\n",
       "</table>\n",
       "</div>"
      ],
      "text/plain": [
       "       Gender Python_exp Education Internship   Location Recruitment_Status\n",
       "count     493        493       493        493        493                493\n",
       "unique      2          2         2          2          3                  2\n",
       "top      Male         No  Graduate         No  Semiurban                  Y\n",
       "freq      404        318       390        426        193                339"
      ]
     },
     "execution_count": 61,
     "metadata": {},
     "output_type": "execute_result"
    }
   ],
   "source": [
    "#Statistical Summary of Categorical Columns\n",
    "df[categorical].describe()"
   ]
  },
  {
   "cell_type": "markdown",
   "id": "ceda6648",
   "metadata": {},
   "source": [
    "### Numerical Column"
   ]
  },
  {
   "cell_type": "code",
   "execution_count": 62,
   "id": "1a2f486c",
   "metadata": {},
   "outputs": [
    {
     "data": {
      "text/plain": [
       "['Experience_Years', 'Score', 'Salary * 10E4', 'Offer_History']"
      ]
     },
     "execution_count": 62,
     "metadata": {},
     "output_type": "execute_result"
    }
   ],
   "source": [
    "#Since we have already drop Serial_no column,  we have to create a new list consisting the remaining numerical column \n",
    "numerical_new = df.select_dtypes('number').columns.tolist()\n",
    "numerical_new"
   ]
  },
  {
   "cell_type": "code",
   "execution_count": 63,
   "id": "3c9e5189",
   "metadata": {},
   "outputs": [
    {
     "data": {
      "image/png": "[encoded data removed]",
      "text/plain": [
       "<Figure size 1440x504 with 4 Axes>"
      ]
     },
     "metadata": {
      "needs_background": "light"
     },
     "output_type": "display_data"
    }
   ],
   "source": [
    "#Distribution Plot for Numerical Column \n",
    "fig = plt.figure(figsize=(20,7))\n",
    "ax_value = []\n",
    "for x in range(len(numerical_new)): \n",
    "    ax_value.append(f'ax{x}')\n",
    "                    \n",
    "for i in range(len(numerical_new)):\n",
    "    ax_value[i] = fig.add_subplot(1, len(numerical_new), i + 1)\n",
    "    df[numerical_new[i]].plot(kind='kde', color='Blue', ax=ax_value[i])\n",
    "    df[numerical_new[i]].plot(kind='hist', density=True, bins=16, color='orange', ax=ax_value[i])\n",
    "    ax_value[i].set_title(f'{numerical_new[i]} Distribution')\n",
    "    ax_value[i].set_xlabel(f'{numerical_new[i]} Column')\n",
    "    ax_value[i].set_ylabel('Value Counts')\n",
    "    plt.tight_layout()\n",
    "        "
   ]
  },
  {
   "cell_type": "markdown",
   "id": "b4575389",
   "metadata": {},
   "source": [
    "**Conclusion:** Experience Years and Offer History column are discrete numerical variable. While Score and Salary (continous variable) seems to be skewed distributed data. Thus, we will expect there are outliers in Score and Salary Column."
   ]
  },
  {
   "cell_type": "code",
   "execution_count": 64,
   "id": "4b6ffdc1",
   "metadata": {},
   "outputs": [
    {
     "data": {
      "text/html": [
       "<div>\n",
       "<style scoped>\n",
       "    .dataframe tbody tr th:only-of-type {\n",
       "        vertical-align: middle;\n",
       "    }\n",
       "\n",
       "    .dataframe tbody tr th {\n",
       "        vertical-align: top;\n",
       "    }\n",
       "\n",
       "    .dataframe thead th {\n",
       "        text-align: right;\n",
       "    }\n",
       "</style>\n",
       "<table border=\"1\" class=\"dataframe\">\n",
       "  <thead>\n",
       "    <tr style=\"text-align: right;\">\n",
       "      <th></th>\n",
       "      <th>Experience_Years</th>\n",
       "      <th>Score</th>\n",
       "      <th>Salary * 10E4</th>\n",
       "      <th>Offer_History</th>\n",
       "    </tr>\n",
       "  </thead>\n",
       "  <tbody>\n",
       "    <tr>\n",
       "      <th>count</th>\n",
       "      <td>493.000000</td>\n",
       "      <td>493.000000</td>\n",
       "      <td>493.000000</td>\n",
       "      <td>493.000000</td>\n",
       "    </tr>\n",
       "    <tr>\n",
       "      <th>mean</th>\n",
       "      <td>0.764706</td>\n",
       "      <td>5334.087221</td>\n",
       "      <td>143.843813</td>\n",
       "      <td>0.845842</td>\n",
       "    </tr>\n",
       "    <tr>\n",
       "      <th>std</th>\n",
       "      <td>1.018833</td>\n",
       "      <td>5602.830386</td>\n",
       "      <td>79.947938</td>\n",
       "      <td>0.361467</td>\n",
       "    </tr>\n",
       "    <tr>\n",
       "      <th>min</th>\n",
       "      <td>0.000000</td>\n",
       "      <td>150.000000</td>\n",
       "      <td>0.000000</td>\n",
       "      <td>0.000000</td>\n",
       "    </tr>\n",
       "    <tr>\n",
       "      <th>25%</th>\n",
       "      <td>0.000000</td>\n",
       "      <td>2900.000000</td>\n",
       "      <td>100.000000</td>\n",
       "      <td>1.000000</td>\n",
       "    </tr>\n",
       "    <tr>\n",
       "      <th>50%</th>\n",
       "      <td>0.000000</td>\n",
       "      <td>3859.000000</td>\n",
       "      <td>128.000000</td>\n",
       "      <td>1.000000</td>\n",
       "    </tr>\n",
       "    <tr>\n",
       "      <th>75%</th>\n",
       "      <td>2.000000</td>\n",
       "      <td>5821.000000</td>\n",
       "      <td>170.000000</td>\n",
       "      <td>1.000000</td>\n",
       "    </tr>\n",
       "    <tr>\n",
       "      <th>max</th>\n",
       "      <td>3.000000</td>\n",
       "      <td>81000.000000</td>\n",
       "      <td>600.000000</td>\n",
       "      <td>1.000000</td>\n",
       "    </tr>\n",
       "  </tbody>\n",
       "</table>\n",
       "</div>"
      ],
      "text/plain": [
       "       Experience_Years         Score  Salary * 10E4  Offer_History\n",
       "count        493.000000    493.000000     493.000000     493.000000\n",
       "mean           0.764706   5334.087221     143.843813       0.845842\n",
       "std            1.018833   5602.830386      79.947938       0.361467\n",
       "min            0.000000    150.000000       0.000000       0.000000\n",
       "25%            0.000000   2900.000000     100.000000       1.000000\n",
       "50%            0.000000   3859.000000     128.000000       1.000000\n",
       "75%            2.000000   5821.000000     170.000000       1.000000\n",
       "max            3.000000  81000.000000     600.000000       1.000000"
      ]
     },
     "execution_count": 64,
     "metadata": {},
     "output_type": "execute_result"
    }
   ],
   "source": [
    "#Statistical Summary of Numerical Feature \n",
    "df[numerical_new].describe()"
   ]
  },
  {
   "cell_type": "code",
   "execution_count": 65,
   "id": "0f3d5d5c",
   "metadata": {},
   "outputs": [
    {
     "data": {
      "image/png": "[encoded data removed]",
      "text/plain": [
       "<Figure size 1440x1080 with 2 Axes>"
      ]
     },
     "metadata": {
      "needs_background": "light"
     },
     "output_type": "display_data"
    }
   ],
   "source": [
    "#Boxplot for Continuous Numerical Column\n",
    "fig = plt.figure(figsize=(20,15))\n",
    "continous_numerical = ['Score', 'Salary * 10E4']\n",
    "ax_value = []\n",
    "for x in range(len(continous_numerical)): \n",
    "    ax_value.append(f'ax{x}')\n",
    "                    \n",
    "for i in range(len(continous_numerical)):\n",
    "    ax_value[i] = fig.add_subplot(1, len(continous_numerical), i + 1)\n",
    "    df[continous_numerical[i]].plot(kind='box', color='orange', ax=ax_value[i])\n",
    "    ax_value[i].set_title(f'{continous_numerical[i]} Box Plot')\n",
    "    plt.tight_layout()"
   ]
  },
  {
   "cell_type": "markdown",
   "id": "3366c832",
   "metadata": {},
   "source": [
    "**Possible Action** : Since Score is achieved from candidate test and interview score, it is make sense that there are some candidates that are brilliant. For the salary, it is also make sense for candidates who have a bigger previous salary because of the his/her experience. So, this two outliers will be kept for the modelling."
   ]
  },
  {
   "cell_type": "markdown",
   "id": "cf62add3",
   "metadata": {},
   "source": [
    "## Correlation Matrix"
   ]
  },
  {
   "cell_type": "code",
   "execution_count": 66,
   "id": "7bf4a22a",
   "metadata": {},
   "outputs": [
    {
     "data": {
      "text/plain": [
       "<AxesSubplot:>"
      ]
     },
     "execution_count": 66,
     "metadata": {},
     "output_type": "execute_result"
    },
    {
     "data": {
      "image/png": "[encoded data removed]",
      "text/plain": [
       "<Figure size 1080x720 with 2 Axes>"
      ]
     },
     "metadata": {
      "needs_background": "light"
     },
     "output_type": "display_data"
    }
   ],
   "source": [
    "#Plot the Correlation Matrix for Numerical Column\n",
    "plt.figure(figsize=(15,10))\n",
    "correlation = df.corr()\n",
    "sns.heatmap(correlation, annot=True, fmt='.2f')"
   ]
  },
  {
   "cell_type": "markdown",
   "id": "38df02a4",
   "metadata": {},
   "source": [
    "**Conclusion** : There is no column which has a correlation value greater than 0.8. Thus, we can carry on with all the features."
   ]
  },
  {
   "cell_type": "markdown",
   "id": "1cad7433",
   "metadata": {},
   "source": [
    "# Pre Processing Categorical Variable (Categorical ---> Numerical)"
   ]
  },
  {
   "cell_type": "markdown",
   "id": "5c09fd91",
   "metadata": {},
   "source": [
    "## Python_exp and Internship Column"
   ]
  },
  {
   "cell_type": "code",
   "execution_count": 67,
   "id": "f65297b3",
   "metadata": {},
   "outputs": [
    {
     "name": "stdout",
     "output_type": "stream",
     "text": [
      "<class 'pandas.core.frame.DataFrame'>\n",
      "Int64Index: 493 entries, 0 to 613\n",
      "Data columns (total 10 columns):\n",
      " #   Column              Non-Null Count  Dtype  \n",
      "---  ------              --------------  -----  \n",
      " 0   Gender              493 non-null    object \n",
      " 1   Python_exp          493 non-null    object \n",
      " 2   Experience_Years    493 non-null    float64\n",
      " 3   Education           493 non-null    object \n",
      " 4   Internship          493 non-null    object \n",
      " 5   Score               493 non-null    int64  \n",
      " 6   Salary * 10E4       493 non-null    float64\n",
      " 7   Offer_History       493 non-null    float64\n",
      " 8   Location            493 non-null    object \n",
      " 9   Recruitment_Status  493 non-null    object \n",
      "dtypes: float64(3), int64(1), object(6)\n",
      "memory usage: 42.4+ KB\n"
     ]
    }
   ],
   "source": [
    "df.info()"
   ]
  },
  {
   "cell_type": "code",
   "execution_count": 68,
   "id": "478fbd1d",
   "metadata": {},
   "outputs": [
    {
     "data": {
      "text/plain": [
       "array(['No', 'Yes'], dtype=object)"
      ]
     },
     "execution_count": 68,
     "metadata": {},
     "output_type": "execute_result"
    }
   ],
   "source": [
    "df['Internship'].unique()"
   ]
  },
  {
   "cell_type": "code",
   "execution_count": 69,
   "id": "99b64cd7",
   "metadata": {},
   "outputs": [
    {
     "data": {
      "text/plain": [
       "array(['Yes', 'No'], dtype=object)"
      ]
     },
     "execution_count": 69,
     "metadata": {},
     "output_type": "execute_result"
    }
   ],
   "source": [
    "df['Python_exp'].unique()"
   ]
  },
  {
   "cell_type": "code",
   "execution_count": 70,
   "id": "0344bd60",
   "metadata": {},
   "outputs": [
    {
     "name": "stdout",
     "output_type": "stream",
     "text": [
      "<class 'pandas.core.frame.DataFrame'>\n",
      "Int64Index: 493 entries, 0 to 613\n",
      "Data columns (total 10 columns):\n",
      " #   Column              Non-Null Count  Dtype  \n",
      "---  ------              --------------  -----  \n",
      " 0   Gender              493 non-null    object \n",
      " 1   Python_exp          493 non-null    object \n",
      " 2   Experience_Years    493 non-null    float64\n",
      " 3   Education           493 non-null    object \n",
      " 4   Internship          493 non-null    int64  \n",
      " 5   Score               493 non-null    int64  \n",
      " 6   Salary * 10E4       493 non-null    float64\n",
      " 7   Offer_History       493 non-null    float64\n",
      " 8   Location            493 non-null    object \n",
      " 9   Recruitment_Status  493 non-null    object \n",
      "dtypes: float64(3), int64(2), object(5)\n",
      "memory usage: 42.4+ KB\n"
     ]
    }
   ],
   "source": [
    "#Endocing Python_exp and internship column \n",
    "y_n_enc = {'Yes' : 1, \n",
    "          'No' : 0}\n",
    "df['Internship'] = df['Internship'].map(y_n_enc)\n",
    "df.info()"
   ]
  },
  {
   "cell_type": "code",
   "execution_count": 71,
   "id": "9a9ecea1",
   "metadata": {},
   "outputs": [
    {
     "name": "stdout",
     "output_type": "stream",
     "text": [
      "<class 'pandas.core.frame.DataFrame'>\n",
      "Int64Index: 493 entries, 0 to 613\n",
      "Data columns (total 10 columns):\n",
      " #   Column              Non-Null Count  Dtype  \n",
      "---  ------              --------------  -----  \n",
      " 0   Gender              493 non-null    object \n",
      " 1   Python_exp          493 non-null    int64  \n",
      " 2   Experience_Years    493 non-null    float64\n",
      " 3   Education           493 non-null    object \n",
      " 4   Internship          493 non-null    int64  \n",
      " 5   Score               493 non-null    int64  \n",
      " 6   Salary * 10E4       493 non-null    float64\n",
      " 7   Offer_History       493 non-null    float64\n",
      " 8   Location            493 non-null    object \n",
      " 9   Recruitment_Status  493 non-null    object \n",
      "dtypes: float64(3), int64(3), object(4)\n",
      "memory usage: 42.4+ KB\n"
     ]
    }
   ],
   "source": [
    "df['Python_exp'] = df['Python_exp'].map(y_n_enc)\n",
    "df.info()"
   ]
  },
  {
   "cell_type": "markdown",
   "id": "313de523",
   "metadata": {},
   "source": [
    "## Recruitment_Status Column"
   ]
  },
  {
   "cell_type": "code",
   "execution_count": 72,
   "id": "1f9168ea",
   "metadata": {},
   "outputs": [
    {
     "data": {
      "text/plain": [
       "array(['Y', 'N'], dtype=object)"
      ]
     },
     "execution_count": 72,
     "metadata": {},
     "output_type": "execute_result"
    }
   ],
   "source": [
    "#Recruitment_Status Unique Value \n",
    "df['Recruitment_Status'].unique()"
   ]
  },
  {
   "cell_type": "code",
   "execution_count": 73,
   "id": "e77f514d",
   "metadata": {},
   "outputs": [
    {
     "name": "stdout",
     "output_type": "stream",
     "text": [
      "<class 'pandas.core.frame.DataFrame'>\n",
      "Int64Index: 493 entries, 0 to 613\n",
      "Data columns (total 10 columns):\n",
      " #   Column              Non-Null Count  Dtype  \n",
      "---  ------              --------------  -----  \n",
      " 0   Gender              493 non-null    object \n",
      " 1   Python_exp          493 non-null    int64  \n",
      " 2   Experience_Years    493 non-null    float64\n",
      " 3   Education           493 non-null    object \n",
      " 4   Internship          493 non-null    int64  \n",
      " 5   Score               493 non-null    int64  \n",
      " 6   Salary * 10E4       493 non-null    float64\n",
      " 7   Offer_History       493 non-null    float64\n",
      " 8   Location            493 non-null    object \n",
      " 9   Recruitment_Status  493 non-null    int64  \n",
      "dtypes: float64(3), int64(4), object(3)\n",
      "memory usage: 42.4+ KB\n"
     ]
    }
   ],
   "source": [
    "#Binary Encoding for Recruitment_Status Column \n",
    "rec_enc = {'Y' : 1, \n",
    "          'N' : 0}\n",
    "df['Recruitment_Status'] = df['Recruitment_Status'].map(rec_enc)\n",
    "df.info()"
   ]
  },
  {
   "cell_type": "markdown",
   "id": "c1800f8b",
   "metadata": {},
   "source": [
    "## Gender Column"
   ]
  },
  {
   "cell_type": "code",
   "execution_count": 74,
   "id": "54c3e7f5",
   "metadata": {},
   "outputs": [
    {
     "data": {
      "text/plain": [
       "array(['Male', 'Female'], dtype=object)"
      ]
     },
     "execution_count": 74,
     "metadata": {},
     "output_type": "execute_result"
    }
   ],
   "source": [
    "#Gender Column Unique Value \n",
    "df['Gender'].unique()"
   ]
  },
  {
   "cell_type": "code",
   "execution_count": 75,
   "id": "1e23acdd",
   "metadata": {},
   "outputs": [
    {
     "name": "stdout",
     "output_type": "stream",
     "text": [
      "<class 'pandas.core.frame.DataFrame'>\n",
      "Int64Index: 493 entries, 0 to 613\n",
      "Data columns (total 10 columns):\n",
      " #   Column              Non-Null Count  Dtype  \n",
      "---  ------              --------------  -----  \n",
      " 0   Gender              493 non-null    int64  \n",
      " 1   Python_exp          493 non-null    int64  \n",
      " 2   Experience_Years    493 non-null    float64\n",
      " 3   Education           493 non-null    object \n",
      " 4   Internship          493 non-null    int64  \n",
      " 5   Score               493 non-null    int64  \n",
      " 6   Salary * 10E4       493 non-null    float64\n",
      " 7   Offer_History       493 non-null    float64\n",
      " 8   Location            493 non-null    object \n",
      " 9   Recruitment_Status  493 non-null    int64  \n",
      "dtypes: float64(3), int64(5), object(2)\n",
      "memory usage: 42.4+ KB\n"
     ]
    }
   ],
   "source": [
    "#Binary Encoding for Gender Column \n",
    "gen_enc = {'Male' : 1, \n",
    "          'Female' : 0}\n",
    "df['Gender'] = df['Gender'].map(gen_enc)\n",
    "df.info()"
   ]
  },
  {
   "cell_type": "markdown",
   "id": "371086b3",
   "metadata": {},
   "source": [
    "## Education Column"
   ]
  },
  {
   "cell_type": "code",
   "execution_count": 76,
   "id": "83c77e4f",
   "metadata": {},
   "outputs": [
    {
     "data": {
      "text/plain": [
       "array(['Graduate', 'Not Graduate'], dtype=object)"
      ]
     },
     "execution_count": 76,
     "metadata": {},
     "output_type": "execute_result"
    }
   ],
   "source": [
    "#Education Column Unique Valie \n",
    "df['Education'].unique()"
   ]
  },
  {
   "cell_type": "code",
   "execution_count": 77,
   "id": "5ca0b35d",
   "metadata": {},
   "outputs": [
    {
     "name": "stdout",
     "output_type": "stream",
     "text": [
      "<class 'pandas.core.frame.DataFrame'>\n",
      "Int64Index: 493 entries, 0 to 613\n",
      "Data columns (total 10 columns):\n",
      " #   Column              Non-Null Count  Dtype  \n",
      "---  ------              --------------  -----  \n",
      " 0   Gender              493 non-null    int64  \n",
      " 1   Python_exp          493 non-null    int64  \n",
      " 2   Experience_Years    493 non-null    float64\n",
      " 3   Education           493 non-null    int64  \n",
      " 4   Internship          493 non-null    int64  \n",
      " 5   Score               493 non-null    int64  \n",
      " 6   Salary * 10E4       493 non-null    float64\n",
      " 7   Offer_History       493 non-null    float64\n",
      " 8   Location            493 non-null    object \n",
      " 9   Recruitment_Status  493 non-null    int64  \n",
      "dtypes: float64(3), int64(6), object(1)\n",
      "memory usage: 42.4+ KB\n"
     ]
    }
   ],
   "source": [
    "#Binary Encoding for Education Column \n",
    "ed_enc = {'Graduate' : 1, \n",
    "          'Not Graduate' : 0}\n",
    "df['Education'] = df['Education'].map(ed_enc)\n",
    "df.info()"
   ]
  },
  {
   "cell_type": "markdown",
   "id": "92816fe3",
   "metadata": {},
   "source": [
    "## Location Column "
   ]
  },
  {
   "cell_type": "code",
   "execution_count": 78,
   "id": "3458d4a1",
   "metadata": {},
   "outputs": [
    {
     "data": {
      "text/plain": [
       "array(['Urban', 'Rural', 'Semiurban'], dtype=object)"
      ]
     },
     "execution_count": 78,
     "metadata": {},
     "output_type": "execute_result"
    }
   ],
   "source": [
    "#Location Unique Value \n",
    "df['Location'].unique()"
   ]
  },
  {
   "cell_type": "markdown",
   "id": "70d19236",
   "metadata": {},
   "source": [
    "**Possible Action:** Because candidates who live in Urban Place has a higher tendency to become a top candidate (Urban Education is better than rural and also its has better competitiveness). Thus, we should perform ordinal encoding for this column.   \n",
    "\n",
    "Rank for Ordinal Encoding: \n",
    "\n",
    "Urban (Highest) -> Semiurban -> Rural"
   ]
  },
  {
   "cell_type": "code",
   "execution_count": 79,
   "id": "1dcc7a42",
   "metadata": {},
   "outputs": [
    {
     "name": "stdout",
     "output_type": "stream",
     "text": [
      "<class 'pandas.core.frame.DataFrame'>\n",
      "Int64Index: 493 entries, 0 to 613\n",
      "Data columns (total 10 columns):\n",
      " #   Column              Non-Null Count  Dtype  \n",
      "---  ------              --------------  -----  \n",
      " 0   Gender              493 non-null    int64  \n",
      " 1   Python_exp          493 non-null    int64  \n",
      " 2   Experience_Years    493 non-null    float64\n",
      " 3   Education           493 non-null    int64  \n",
      " 4   Internship          493 non-null    int64  \n",
      " 5   Score               493 non-null    int64  \n",
      " 6   Salary * 10E4       493 non-null    float64\n",
      " 7   Offer_History       493 non-null    float64\n",
      " 8   Location            493 non-null    int64  \n",
      " 9   Recruitment_Status  493 non-null    int64  \n",
      "dtypes: float64(3), int64(7)\n",
      "memory usage: 42.4 KB\n"
     ]
    }
   ],
   "source": [
    "#Ordinal Encoding for Location Column \n",
    "loc_enc = {'Urban':3, \n",
    "          'Semiurban' : 2, \n",
    "          'Rural' : 1}\n",
    "df['Location'] = df['Location'].map(loc_enc)\n",
    "df.info()"
   ]
  },
  {
   "cell_type": "code",
   "execution_count": 80,
   "id": "eb905d96",
   "metadata": {},
   "outputs": [
    {
     "data": {
      "text/html": [
       "<a href='cleaned Recruitment.csv' target='_blank'>cleaned Recruitment.csv</a><br>"
      ],
      "text/plain": [
       "C:\\Users\\HARIS\\week2\\cleaned Recruitment.csv"
      ]
     },
     "metadata": {},
     "output_type": "display_data"
    },
    {
     "name": "stdout",
     "output_type": "stream",
     "text": [
      "Press enter to delete the file after you have downloaded it.\n"
     ]
    }
   ],
   "source": [
    "#Download Preprocessed Data Set\n",
    "from IPython.display import FileLink\n",
    "# Import a module to delete the file\n",
    "import os\n",
    "# Create a download function\n",
    "def csv_download_link(df, csv_file_name, delete_prompt=True):\n",
    "    \"\"\"Display a download link to load a data frame as csv within a Jupyter notebook\n",
    "\n",
    "    Parameters\n",
    "    ----------\n",
    "    df : pandas data frame\n",
    "    csv_file_name : str\n",
    "    delete_prompt : bool\n",
    "    \"\"\"\n",
    "    df.to_csv(csv_file_name, index=False)\n",
    "    display(FileLink(csv_file_name))\n",
    "    if delete_prompt:\n",
    "        a = input('Press enter to delete the file after you have downloaded it.')\n",
    "        os.remove(csv_file_name)\n",
    "\n",
    "\n",
    "# Use the function to diplay a download link\n",
    "csv_download_link(df, 'cleaned Recruitment.csv')"
   ]
  },
  {
   "cell_type": "markdown",
   "id": "2047ccf5",
   "metadata": {},
   "source": [
    "# Modelling and Best Model Selection"
   ]
  },
  {
   "cell_type": "code",
   "execution_count": 81,
   "id": "c89c03b2",
   "metadata": {},
   "outputs": [],
   "source": [
    "#Split Target and Feature \n",
    "df = df.replace(r'^\\s*$', np.nan, regex=True) #for convert into float\n",
    "X = df.drop('Recruitment_Status', axis=1) #Feature\n",
    "Y = df['Recruitment_Status'] #Target"
   ]
  },
  {
   "cell_type": "code",
   "execution_count": 82,
   "id": "f4cb99ae",
   "metadata": {},
   "outputs": [],
   "source": [
    "#Perform SMOTE Imbalanced Data Handling \n",
    "from imblearn.over_sampling import SMOTE\n",
    "\n",
    "smote = SMOTE()\n",
    "X_res, y_res = smote.fit_resample(X, Y)"
   ]
  },
  {
   "cell_type": "code",
   "execution_count": 83,
   "id": "52c183f4",
   "metadata": {},
   "outputs": [
    {
     "data": {
      "text/plain": [
       "((678, 9), (678,))"
      ]
     },
     "execution_count": 83,
     "metadata": {},
     "output_type": "execute_result"
    }
   ],
   "source": [
    "X_res.shape, y_res.shape"
   ]
  },
  {
   "cell_type": "code",
   "execution_count": 84,
   "id": "554f9025",
   "metadata": {},
   "outputs": [],
   "source": [
    "#Split Train Test Data \n",
    "from sklearn.model_selection import train_test_split\n",
    "X_train, X_test, y_train, y_test = train_test_split(X_res, y_res, test_size=0.2, random_state=42) #Split by 80% and 20%"
   ]
  },
  {
   "cell_type": "code",
   "execution_count": 85,
   "id": "af59acc7",
   "metadata": {},
   "outputs": [
    {
     "data": {
      "text/plain": [
       "((542, 9), (542,))"
      ]
     },
     "execution_count": 85,
     "metadata": {},
     "output_type": "execute_result"
    }
   ],
   "source": [
    "X_train.shape, y_train.shape"
   ]
  },
  {
   "cell_type": "code",
   "execution_count": 86,
   "id": "07d2123a",
   "metadata": {},
   "outputs": [
    {
     "name": "stderr",
     "output_type": "stream",
     "text": [
      "C:\\Users\\HARIS\\AppData\\Local\\Temp\\ipykernel_11500\\784999691.py:20: FutureWarning: The frame.append method is deprecated and will be removed from pandas in a future version. Use pandas.concat instead.\n",
      "  df_mod_eval = df_mod_eval.append({'Algorithm' : algorithm,\n",
      "C:\\Users\\HARIS\\AppData\\Local\\Temp\\ipykernel_11500\\784999691.py:20: FutureWarning: The frame.append method is deprecated and will be removed from pandas in a future version. Use pandas.concat instead.\n",
      "  df_mod_eval = df_mod_eval.append({'Algorithm' : algorithm,\n",
      "C:\\Users\\HARIS\\AppData\\Local\\Temp\\ipykernel_11500\\784999691.py:20: FutureWarning: The frame.append method is deprecated and will be removed from pandas in a future version. Use pandas.concat instead.\n",
      "  df_mod_eval = df_mod_eval.append({'Algorithm' : algorithm,\n",
      "C:\\Users\\HARIS\\anaconda3\\lib\\site-packages\\sklearn\\linear_model\\_logistic.py:814: ConvergenceWarning: lbfgs failed to converge (status=1):\n",
      "STOP: TOTAL NO. of ITERATIONS REACHED LIMIT.\n",
      "\n",
      "Increase the number of iterations (max_iter) or scale the data as shown in:\n",
      "    https://scikit-learn.org/stable/modules/preprocessing.html\n",
      "Please also refer to the documentation for alternative solver options:\n",
      "    https://scikit-learn.org/stable/modules/linear_model.html#logistic-regression\n",
      "  n_iter_i = _check_optimize_result(\n",
      "C:\\Users\\HARIS\\AppData\\Local\\Temp\\ipykernel_11500\\784999691.py:20: FutureWarning: The frame.append method is deprecated and will be removed from pandas in a future version. Use pandas.concat instead.\n",
      "  df_mod_eval = df_mod_eval.append({'Algorithm' : algorithm,\n"
     ]
    },
    {
     "data": {
      "text/html": [
       "<div>\n",
       "<style scoped>\n",
       "    .dataframe tbody tr th:only-of-type {\n",
       "        vertical-align: middle;\n",
       "    }\n",
       "\n",
       "    .dataframe tbody tr th {\n",
       "        vertical-align: top;\n",
       "    }\n",
       "\n",
       "    .dataframe thead th {\n",
       "        text-align: right;\n",
       "    }\n",
       "</style>\n",
       "<table border=\"1\" class=\"dataframe\">\n",
       "  <thead>\n",
       "    <tr style=\"text-align: right;\">\n",
       "      <th></th>\n",
       "      <th>Algorithm</th>\n",
       "      <th>AUC Score</th>\n",
       "    </tr>\n",
       "  </thead>\n",
       "  <tbody>\n",
       "    <tr>\n",
       "      <th>0</th>\n",
       "      <td>RandomForestClassifier</td>\n",
       "      <td>0.900974</td>\n",
       "    </tr>\n",
       "    <tr>\n",
       "      <th>1</th>\n",
       "      <td>DecisionTreeClassifier</td>\n",
       "      <td>0.801082</td>\n",
       "    </tr>\n",
       "    <tr>\n",
       "      <th>2</th>\n",
       "      <td>KNeighborsClassifier</td>\n",
       "      <td>0.669697</td>\n",
       "    </tr>\n",
       "    <tr>\n",
       "      <th>3</th>\n",
       "      <td>LogisticRegression</td>\n",
       "      <td>0.798052</td>\n",
       "    </tr>\n",
       "  </tbody>\n",
       "</table>\n",
       "</div>"
      ],
      "text/plain": [
       "                Algorithm AUC Score\n",
       "0  RandomForestClassifier  0.900974\n",
       "1  DecisionTreeClassifier  0.801082\n",
       "2    KNeighborsClassifier  0.669697\n",
       "3      LogisticRegression  0.798052"
      ]
     },
     "execution_count": 86,
     "metadata": {},
     "output_type": "execute_result"
    }
   ],
   "source": [
    "#Multiple Modelling and Evaluate using AUC Score \n",
    "from sklearn.ensemble import RandomForestClassifier\n",
    "from sklearn.tree import DecisionTreeClassifier \n",
    "from sklearn.neighbors import KNeighborsClassifier\n",
    "from sklearn.linear_model import LogisticRegression\n",
    "from sklearn.metrics import roc_curve, roc_auc_score\n",
    "\n",
    "model_alg = [RandomForestClassifier(), \n",
    "             DecisionTreeClassifier(),\n",
    "             KNeighborsClassifier(), \n",
    "             LogisticRegression() \n",
    "             ]\n",
    "df_mod_eval = pd.DataFrame(columns = ['Algorithm','AUC Score']) \n",
    "\n",
    "for model in model_alg : \n",
    "  model.fit(X_train, y_train)\n",
    "  algorithm = str(type(model)).split('.')[-1][:-2]\n",
    "  y_pred_proba = model.predict_proba(X_test)[::,1]\n",
    "  auc = roc_auc_score(y_test, y_pred_proba)\n",
    "  df_mod_eval = df_mod_eval.append({'Algorithm' : algorithm, \n",
    "                                    'AUC Score' : auc},ignore_index=True)\n",
    "df_mod_eval"
   ]
  },
  {
   "cell_type": "markdown",
   "id": "2c87d895",
   "metadata": {},
   "source": [
    "**Conclusion :** Random Forrest Classifier Gives the Best Model for the Classification"
   ]
  },
  {
   "cell_type": "markdown",
   "id": "068e5bec",
   "metadata": {},
   "source": [
    "# Model Evaluation"
   ]
  },
  {
   "cell_type": "code",
   "execution_count": 87,
   "id": "ddaeee89",
   "metadata": {},
   "outputs": [
    {
     "data": {
      "text/plain": [
       "RandomForestClassifier()"
      ]
     },
     "execution_count": 87,
     "metadata": {},
     "output_type": "execute_result"
    }
   ],
   "source": [
    "rfc = RandomForestClassifier()\n",
    "rfc.fit(X_train, y_train)"
   ]
  },
  {
   "cell_type": "code",
   "execution_count": 88,
   "id": "3fd72b3b",
   "metadata": {},
   "outputs": [
    {
     "name": "stdout",
     "output_type": "stream",
     "text": [
      "              precision    recall  f1-score   support\n",
      "\n",
      "           0       0.92      0.77      0.84        70\n",
      "           1       0.79      0.92      0.85        66\n",
      "\n",
      "    accuracy                           0.85       136\n",
      "   macro avg       0.85      0.85      0.85       136\n",
      "weighted avg       0.86      0.85      0.84       136\n",
      "\n"
     ]
    }
   ],
   "source": [
    "#Classification Report \n",
    "from sklearn.metrics import classification_report\n",
    "y_pred = rfc.predict(X_test)\n",
    "print(classification_report(y_test, y_pred))"
   ]
  },
  {
   "cell_type": "code",
   "execution_count": 89,
   "id": "3c76b6ee",
   "metadata": {},
   "outputs": [
    {
     "data": {
      "text/plain": [
       "<matplotlib.legend.Legend at 0x1eb66fc2160>"
      ]
     },
     "execution_count": 89,
     "metadata": {},
     "output_type": "execute_result"
    },
    {
     "data": {
      "image/png": "[encoded data removed]",
      "text/plain": [
       "<Figure size 432x288 with 1 Axes>"
      ]
     },
     "metadata": {
      "needs_background": "light"
     },
     "output_type": "display_data"
    }
   ],
   "source": [
    "#ROC Curve \n",
    "y_pred_proba = rfc.predict_proba(X_test)[:][:,1]\n",
    "\n",
    "df_actual_predicted = pd.concat([pd.DataFrame(np.array(y_test), columns=['y_actual']), pd.DataFrame(y_pred_proba, columns=['y_pred_proba'])], axis=1)\n",
    "df_actual_predicted.index = y_test.index\n",
    "from sklearn.metrics import roc_curve, roc_auc_score\n",
    "fpr, tpr, tr = roc_curve(df_actual_predicted['y_actual'], df_actual_predicted['y_pred_proba'])\n",
    "auc = roc_auc_score(df_actual_predicted['y_actual'], df_actual_predicted['y_pred_proba'])\n",
    "\n",
    "plt.plot(fpr, tpr, label='AUC = %0.4f' %auc)\n",
    "plt.plot(fpr, fpr, linestyle = '--', color='k')\n",
    "plt.xlabel('False Positive Rate')\n",
    "plt.ylabel('True Positive Rate')\n",
    "plt.title('ROC Curve')\n",
    "plt.legend()"
   ]
  },
  {
   "cell_type": "code",
   "execution_count": 90,
   "id": "5012b5bf",
   "metadata": {},
   "outputs": [
    {
     "data": {
      "image/png": "[encoded data removed]",
      "text/plain": [
       "<Figure size 720x504 with 2 Axes>"
      ]
     },
     "metadata": {
      "needs_background": "light"
     },
     "output_type": "display_data"
    }
   ],
   "source": [
    "#Confusion Matrix \n",
    "from sklearn.metrics import confusion_matrix, ConfusionMatrixDisplay\n",
    "\n",
    "fig, ax = plt.subplots(figsize=(10,7))\n",
    "target_pred = rfc.predict(X_test)\n",
    "\n",
    "cm = confusion_matrix(y_test, target_pred, labels=rfc.classes_)\n",
    "disp = ConfusionMatrixDisplay(confusion_matrix=cm,\n",
    "                             display_labels=rfc.classes_)\n",
    "disp.plot(ax=ax)\n",
    "plt.show()"
   ]
  },
  {
   "cell_type": "markdown",
   "id": "a369dc6d",
   "metadata": {},
   "source": [
    "**Conclusion :** The Model has Sufficient Accuracy (88%)"
   ]
  },
  {
   "cell_type": "code",
   "execution_count": 91,
   "id": "2796cd6f",
   "metadata": {},
   "outputs": [
    {
     "data": {
      "text/plain": [
       "Text(0, 0.5, 'Feature')"
      ]
     },
     "execution_count": 91,
     "metadata": {},
     "output_type": "execute_result"
    },
    {
     "data": {
      "image/png": "[encoded data removed]",
      "text/plain": [
       "<Figure size 432x288 with 1 Axes>"
      ]
     },
     "metadata": {
      "needs_background": "light"
     },
     "output_type": "display_data"
    }
   ],
   "source": [
    "# Feature Importance \n",
    "arr_feature_importances = rfc.feature_importances_\n",
    "arr_feature_names = X_train.columns.values\n",
    "    \n",
    "df_feature_importance = pd.DataFrame(index=range(len(arr_feature_importances)), columns=['feature', 'importance'])\n",
    "df_feature_importance['feature'] = arr_feature_names\n",
    "df_feature_importance['importance'] = arr_feature_importances\n",
    "df_all_features = df_feature_importance.sort_values(by='importance', ascending=False)\n",
    "df_all_features.set_index('feature', inplace=True)\n",
    "df_all_features.plot(kind='barh')\n",
    "plt.title('Feature Importance')\n",
    "plt.xlabel('Importance Score')\n",
    "plt.ylabel('Feature')"
   ]
  },
  {
   "cell_type": "code",
   "execution_count": 92,
   "id": "f2b581e2",
   "metadata": {},
   "outputs": [],
   "source": [
    "#save model\n",
    "import pickle\n",
    "filename='savedmodel.sav'\n",
    "pickle.dump(model, open(filename, 'wb'))\n",
    "load_model=pickle.load(open(filename, 'rb'))"
   ]
  }
 ],
 "metadata": {
  "kernelspec": {
   "display_name": "Python 3 (ipykernel)",
   "language": "python",
   "name": "python3"
  },
  "language_info": {
   "codemirror_mode": {
    "name": "ipython",
    "version": 3
   },
   "file_extension": ".py",
   "mimetype": "text/x-python",
   "name": "python",
   "nbconvert_exporter": "python",
   "pygments_lexer": "ipython3",
   "version": "3.9.12"
  },
  "toc": {
   "base_numbering": 1,
   "nav_menu": {},
   "number_sections": true,
   "sideBar": true,
   "skip_h1_title": false,
   "title_cell": "Table of Contents",
   "title_sidebar": "Contents",
   "toc_cell": false,
   "toc_position": {},
   "toc_section_display": true,
   "toc_window_display": true
  }
 },
 "nbformat": 4,
 "nbformat_minor": 5
}
